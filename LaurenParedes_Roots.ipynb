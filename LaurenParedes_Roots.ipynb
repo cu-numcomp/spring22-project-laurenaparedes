{
 "cells": [
  {
   "cell_type": "markdown",
   "id": "9c436005-53e2-409e-99a2-295abf2fa113",
   "metadata": {},
   "source": [
    "Rootfinding in Julia\n",
    "https://github.com/JuliaMath/Roots.jl/blob/master/docs/src/roots.md"
   ]
  },
  {
   "cell_type": "markdown",
   "id": "1df22a14-2aff-4e0b-8084-56d2e83bcc21",
   "metadata": {},
   "source": [
    "Roots.jl is a package addition for the Julia language, in this regard it is domain-specific. Roots.jl adds simple routines for rootfinding in continiuos scalar functions. Under that goal the group utlizes various algorithms, for example, bisection-like algorithms, derivative free methods, and non-exported methods."
   ]
  },
  {
   "cell_type": "markdown",
   "id": "a4e2f4ac-7b5d-4749-b51b-a11348605b7e",
   "metadata": {},
   "source": [
    "I had a hard time finding out about the stakeholders, however from looking throught the project I can guess that this is for public use, specifically regarding Julia.\n",
    "When I was looking at the contributors I noticed that one person had more commits which leads me to beleive that they are the leader of the group.\n",
    "Programmers and engieneers are positively impacted by this package as this aims to simplify rootfinding. With each new release, features are optimized. "
   ]
  },
  {
   "cell_type": "markdown",
   "id": "c4e4bd51-f5d4-4e02-ab97-777673389e48",
   "metadata": {},
   "source": [
    "The concept of stability appears at the top of the README as well as the status of the build for linux and windows. The project does have a testing section to the accuracy as well.\n",
    "In terms of cost there was little information. However I do not think it would be too dificult to make a plot concerning the accuracy and cost. The axes for this plot would have stablitly vs accuracy. \n",
    "In this project it would be possible for stakeholders to want different axes, for example passing build status for windows vs. linux.\n",
    "There are algorithmic choices made for stability within roots.jl. There are implementations of derivative free methods, however these are not fully optimized to be as cost effecive as other derivative-including methods.\n"
   ]
  },
  {
   "cell_type": "markdown",
   "id": "bd3af380-4df7-4846-a11f-775b3bc9aacf",
   "metadata": {},
   "source": [
    "An example"
   ]
  },
  {
   "cell_type": "code",
   "execution_count": 3,
   "id": "a0dd8d77-4d1a-4081-8bb6-f7cb0debe52a",
   "metadata": {},
   "outputs": [
    {
     "data": {
      "text/plain": [
       "1.7745219285079974"
      ]
     },
     "execution_count": 3,
     "metadata": {},
     "output_type": "execute_result"
    }
   ],
   "source": [
    "# classical methods of for root finding\n",
    "using Roots, ForwardDiff\n",
    "f(x) = x^5 -4x^2 -5;\n",
    "df(x) = 5x^4 -8x;\n",
    "x = Roots.find_zero((f, df), 4, Roots.Newton())"
   ]
  },
  {
   "cell_type": "code",
   "execution_count": 4,
   "id": "ef7f9704-eb39-41d8-a328-1dd15294fe99",
   "metadata": {},
   "outputs": [
    {
     "data": {
      "text/plain": [
       "(1.7745219285079974, 1.7763568394002505e-15)"
      ]
     },
     "execution_count": 4,
     "metadata": {},
     "output_type": "execute_result"
    }
   ],
   "source": [
    "x, f(x)"
   ]
  },
  {
   "cell_type": "markdown",
   "id": "3226cf2f-334a-4212-a909-90eb7027e0ca",
   "metadata": {},
   "source": [
    "Roots.jl also has two other classical methods, Halley's, and Schroder. The ForwardDiff helps to automatically compute the derivatives for these methods"
   ]
  },
  {
   "cell_type": "markdown",
   "id": "fd18ad6e-dd0d-4582-9d9d-4d62c5bc8932",
   "metadata": {},
   "source": [
    "Question: Is one future goal of this project to have derivative free solutions for all the different methods, whether or not they are more cost effecitve than the derivative methods."
   ]
  },
  {
   "cell_type": "markdown",
   "id": "a176119d-f65a-4cf6-82b2-fe2180e9e70a",
   "metadata": {},
   "source": [
    "One Experiment: Find the worst and best preforming methods and compare them to try to make the worst preforming method better."
   ]
  }
 ],
 "metadata": {
  "kernelspec": {
   "display_name": "Julia 1.6.1",
   "language": "julia",
   "name": "julia-1.6"
  },
  "language_info": {
   "file_extension": ".jl",
   "mimetype": "application/julia",
   "name": "julia",
   "version": "1.6.1"
  }
 },
 "nbformat": 4,
 "nbformat_minor": 5
}
